{
 "cells": [
  {
   "cell_type": "code",
   "execution_count": null,
   "metadata": {},
   "outputs": [],
   "source": [
    "!pip install -q tensorflow-gpu==2.0.0-rc1"
   ]
  },
  {
   "cell_type": "code",
   "execution_count": null,
   "metadata": {},
   "outputs": [],
   "source": [
    "!pip install transformers"
   ]
  },
  {
   "cell_type": "code",
   "execution_count": 1,
   "metadata": {
    "colab": {},
    "colab_type": "code",
    "id": "__wZRde9yDVp"
   },
   "outputs": [],
   "source": [
    "import os\n",
    "from datetime import datetime\n",
    "import tensorflow as tf\n",
    "import numpy as np\n",
    "import json\n",
    "from sklearn.model_selection import train_test_split"
   ]
  },
  {
   "cell_type": "code",
   "execution_count": 2,
   "metadata": {
    "colab": {
     "base_uri": "https://localhost:8080/",
     "height": 34
    },
    "colab_type": "code",
    "executionInfo": {
     "elapsed": 5753,
     "status": "ok",
     "timestamp": 1560441829976,
     "user": {
      "displayName": "조중현",
      "photoUrl": "",
      "userId": "04275587646849861321"
     },
     "user_tz": -540
    },
    "id": "WCy9xt0byOEp",
    "outputId": "7c00e883-8467-425e-8096-7385315fa4bb"
   },
   "outputs": [
    {
     "name": "stdout",
     "output_type": "stream",
     "text": [
      "Drive already mounted at /content/gdrive; to attempt to forcibly remount, call drive.mount(\"/content/gdrive\", force_remount=True).\n"
     ]
    }
   ],
   "source": [
    "from google.colab import auth\n",
    "auth.authenticate_user()\n",
    "\n",
    "from google.colab import drive\n",
    "drive.mount('/content/gdrive')"
   ]
  },
  {
   "cell_type": "code",
   "execution_count": 2,
   "metadata": {},
   "outputs": [],
   "source": [
    "base_path = '/content/gdrive/My Drive/Colab Notebooks'"
   ]
  },
  {
   "cell_type": "code",
   "execution_count": 6,
   "metadata": {
    "colab": {},
    "colab_type": "code",
    "id": "tmN9YnJafJCu"
   },
   "outputs": [],
   "source": [
    "data_in_path = base_path + '/data_in/'\n",
    "data_out_path = base_path + '/data_out/'\n",
    "train_input_data = 'nsmc_train_input.npy'\n",
    "train_label_data = 'nsmc_train_label.npy'\n",
    "data_configs = 'nsmc_data_configs.json'\n",
    "\n",
    "input_data = np.load(open(data_in_path + train_input_data, 'rb'))\n",
    "label_data = np.load(open(data_in_path + train_label_data, 'rb'))\n",
    "prepro_configs = json.load(open(data_in_path + data_configs, 'r'))"
   ]
  },
  {
   "cell_type": "code",
   "execution_count": 7,
   "metadata": {
    "colab": {},
    "colab_type": "code",
    "id": "QTBitcD1foz8"
   },
   "outputs": [],
   "source": [
    "test_split = 0.1\n",
    "seed = 100\n",
    "batch_size = 50\n",
    "num_epochs = 16\n",
    "\n",
    "input_train, input_eval, label_train, label_eval = train_test_split(input_data,\n",
    "                                                                    label_data,\n",
    "                                                                    test_size=test_split,\n",
    "                                                                    random_state=seed)"
   ]
  },
  {
   "cell_type": "code",
   "execution_count": 23,
   "metadata": {},
   "outputs": [],
   "source": [
    "model_name = 'convnet'\n",
    "max_length = input_data.shape[1]"
   ]
  },
  {
   "cell_type": "code",
   "execution_count": 8,
   "metadata": {},
   "outputs": [],
   "source": [
    "dataset = tf.data.Dataset.from_tensor_slices((input_train, label_train))\n",
    "dataset = dataset.shuffle(buffer_size=len(input_train))\n",
    "dataset = dataset.batch(batch_size)\n",
    "dataset = dataset.shuffle(len(input_train))\n",
    "\n",
    "validation_dataset = tf.data.Dataset.from_tensor_slices((input_eval, label_eval))\n",
    "validation_dataset = validation_dataset.shuffle(buffer_size=len(input_eval))\n",
    "validation_dataset = validation_dataset.batch(batch_size)\n",
    "dataset = dataset.shuffle(len(input_eval))"
   ]
  },
  {
   "cell_type": "code",
   "execution_count": null,
   "metadata": {},
   "outputs": [],
   "source": [
    "model_name = 'bert-base-multilingual-uncased'\n",
    "\n",
    "tokenizer = BertTokenizer.from_pretrained(model_name)\n",
    "model = TFBertForSequenceClassification.from_pretrained(model_name) # 모델 학습 불러오기"
   ]
  },
  {
   "cell_type": "code",
   "execution_count": 13,
   "metadata": {},
   "outputs": [],
   "source": [
    "model = Model(**kargs)\n",
    "\n",
    "model.compile(optimizer='adam',\n",
    "              loss='binary_crossentropy',\n",
    "              metrics=['accuracy'])"
   ]
  },
  {
   "cell_type": "code",
   "execution_count": 25,
   "metadata": {
    "scrolled": true
   },
   "outputs": [
    {
     "name": "stdout",
     "output_type": "stream",
     "text": [
      "Model: \"conv\"\n",
      "_________________________________________________________________\n",
      "Layer (type)                 Output Shape              Param #   \n",
      "=================================================================\n",
      "embedding_1 (Embedding)      multiple                  5600896   \n",
      "_________________________________________________________________\n",
      "conv1d_3 (Conv1D)            multiple                  38500     \n",
      "_________________________________________________________________\n",
      "conv1d_4 (Conv1D)            multiple                  51300     \n",
      "_________________________________________________________________\n",
      "conv1d_5 (Conv1D)            multiple                  64100     \n",
      "_________________________________________________________________\n",
      "global_max_pooling1d_1 (Glob multiple                  0         \n",
      "_________________________________________________________________\n",
      "dropout_1 (Dropout)          multiple                  0         \n",
      "_________________________________________________________________\n",
      "dense_2 (Dense)              multiple                  75250     \n",
      "_________________________________________________________________\n",
      "dense_3 (Dense)              multiple                  251       \n",
      "=================================================================\n",
      "Total params: 5,830,297\n",
      "Trainable params: 5,830,297\n",
      "Non-trainable params: 0\n",
      "_________________________________________________________________\n"
     ]
    }
   ],
   "source": [
    "model.build(input_shape=(batch_size, max_length))\n",
    "model.summary()"
   ]
  },
  {
   "cell_type": "code",
   "execution_count": 49,
   "metadata": {
    "colab": {},
    "colab_type": "code",
    "id": "UvStrjAUgF2n"
   },
   "outputs": [],
   "source": [
    "test_input_data = 'nsmc_test_input.npy'\n",
    "test_label_data = 'nsmc_test_label.npy'\n",
    "\n",
    "test_input_data = np.load(open(data_in_path + test_input_data, 'rb'))\n",
    "test_label_data = np.load(open(data_in_path + test_label_data, 'rb'))"
   ]
  },
  {
   "cell_type": "code",
   "execution_count": 51,
   "metadata": {
    "colab": {},
    "colab_type": "code",
    "id": "eJQaMNtKgHtl"
   },
   "outputs": [],
   "source": [
    "test_dataset = tf.data.Dataset.from_tensor_slices((test_input_data, test_label_data))\n",
    "test_dataset = test_dataset.batch(BATCH_SIZE)"
   ]
  },
  {
   "cell_type": "code",
   "execution_count": 53,
   "metadata": {},
   "outputs": [],
   "source": [
    "test_output = model.predict(test_dataset)"
   ]
  },
  {
   "cell_type": "code",
   "execution_count": 54,
   "metadata": {
    "colab": {},
    "colab_type": "code",
    "id": "o86qAnC1Urhz"
   },
   "outputs": [],
   "source": [
    "test_output = np.array(test_output)"
   ]
  },
  {
   "cell_type": "code",
   "execution_count": 55,
   "metadata": {
    "colab": {
     "base_uri": "https://localhost:8080/",
     "height": 136
    },
    "colab_type": "code",
    "executionInfo": {
     "elapsed": 555,
     "status": "ok",
     "timestamp": 1560443487790,
     "user": {
      "displayName": "조중현",
      "photoUrl": "",
      "userId": "04275587646849861321"
     },
     "user_tz": -540
    },
    "id": "d_NNH_UlrcbU",
    "outputId": "7933c317-4ec7-4f16-c41e-94b19e427ee4"
   },
   "outputs": [
    {
     "data": {
      "text/plain": [
       "array([[0.9836465 ],\n",
       "       [0.54142475],\n",
       "       [0.26841763],\n",
       "       ...,\n",
       "       [0.7737855 ],\n",
       "       [0.00120722],\n",
       "       [0.0788133 ]], dtype=float32)"
      ]
     },
     "execution_count": 55,
     "metadata": {},
     "output_type": "execute_result"
    }
   ],
   "source": [
    "test_output"
   ]
  }
 ],
 "metadata": {
  "colab": {
   "collapsed_sections": [],
   "name": "Day3_2_Yoon_Kim_Model.ipynb의 사본",
   "provenance": [],
   "version": "0.3.2"
  },
  "kernelspec": {
   "display_name": "Python 3",
   "language": "python",
   "name": "python3"
  },
  "language_info": {
   "codemirror_mode": {
    "name": "ipython",
    "version": 3
   },
   "file_extension": ".py",
   "mimetype": "text/x-python",
   "name": "python",
   "nbconvert_exporter": "python",
   "pygments_lexer": "ipython3",
   "version": "3.6.8"
  }
 },
 "nbformat": 4,
 "nbformat_minor": 1
}
