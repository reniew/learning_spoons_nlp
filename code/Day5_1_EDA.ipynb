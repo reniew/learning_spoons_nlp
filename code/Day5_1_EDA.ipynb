{
 "cells": [
  {
   "cell_type": "code",
   "execution_count": null,
   "metadata": {},
   "outputs": [],
   "source": [
    "from google.colab import auth\n",
    "auth.authenticate_user()\n",
    "\n",
    "from google.colab import drive\n",
    "drive.mount('/content/gdrive')"
   ]
  },
  {
   "cell_type": "code",
   "execution_count": 1,
   "metadata": {
    "colab": {},
    "colab_type": "code",
    "id": "L9bmYMo2NyCn"
   },
   "outputs": [],
   "source": [
    "import pandas as pd\n",
    "import numpy as np\n",
    "import matplotlib.pyplot as plt\n",
    "import os\n",
    "from collections import Counter\n",
    "\n",
    "from functools import reduce\n",
    "from wordcloud import WordCloud\n",
    "%matplotlib inline"
   ]
  },
  {
   "cell_type": "code",
   "execution_count": null,
   "metadata": {},
   "outputs": [],
   "source": [
    "!pip install konlpy"
   ]
  },
  {
   "cell_type": "code",
   "execution_count": 2,
   "metadata": {
    "colab": {},
    "colab_type": "code",
    "id": "BIEaMFWfO7Rf"
   },
   "outputs": [],
   "source": [
    "from konlpy.tag import Okt"
   ]
  },
  {
   "cell_type": "code",
   "execution_count": 3,
   "metadata": {},
   "outputs": [],
   "source": [
    "base_path = '/content/gdrive/My Drive/Colab Notebooks'"
   ]
  },
  {
   "cell_type": "code",
   "execution_count": 8,
   "metadata": {
    "colab": {},
    "colab_type": "code",
    "id": "xnmIuA7QPaVl"
   },
   "outputs": [],
   "source": [
    "data_in_path = base_path + '/data_in/'\n",
    "data_out_path = base_path + '/data_out/'"
   ]
  },
  {
   "cell_type": "code",
   "execution_count": 9,
   "metadata": {
    "colab": {},
    "colab_type": "code",
    "id": "-rW0VyM4O7Wa"
   },
   "outputs": [],
   "source": [
    "if not os.path.exists(data_in_path):\n",
    "    os.makedirs(data_in_path)\n",
    "    \n",
    "if not os.path.exists(data_out_path):\n",
    "    os.makedirs(data_out_path)"
   ]
  },
  {
   "cell_type": "markdown",
   "metadata": {
    "colab_type": "text",
    "id": "9DCZ643OLcDk"
   },
   "source": [
    "### Get data (https://github.com/songys/Chatbot_data)"
   ]
  },
  {
   "cell_type": "code",
   "execution_count": 10,
   "metadata": {
    "scrolled": true
   },
   "outputs": [
    {
     "name": "stdout",
     "output_type": "stream",
     "text": [
      "--2020-02-19 22:19:13--  http://drive/Colab\n",
      "Resolving drive (drive)... failed: nodename nor servname provided, or not known.\n",
      "wget: unable to resolve host address ‘drive’\n",
      "--2020-02-19 22:19:14--  http://notebooks/Data/\n",
      "Resolving notebooks (notebooks)... failed: nodename nor servname provided, or not known.\n",
      "wget: unable to resolve host address ‘notebooks’\n",
      "--2020-02-19 22:19:14--  https://raw.githubusercontent.com/changwookjun/learningspoons/master/Data/ChatBotData.csv\n",
      "Resolving raw.githubusercontent.com (raw.githubusercontent.com)... 151.101.88.133\n",
      "Connecting to raw.githubusercontent.com (raw.githubusercontent.com)|151.101.88.133|:443... connected.\n",
      "HTTP request sent, awaiting response... 200 OK\n",
      "Length: 889842 (869K) [text/plain]\n",
      "/content/gdrive/My: No such file or directory\n",
      "/content/gdrive/My/ChatBotData.csv: No such file or directory\n",
      "\n",
      "Cannot write to ‘/content/gdrive/My/ChatBotData.csv’ (Success).\n"
     ]
    }
   ],
   "source": [
    "!wget -P /content/gdrive/My\\ Drive/Colab\\ Notebooks/data_in/ https://raw.githubusercontent.com/changwookjun/learningspoons/master/Data/ChatBotData.csv"
   ]
  },
  {
   "cell_type": "markdown",
   "metadata": {
    "colab_type": "text",
    "id": "ZBWU7usbSAZb"
   },
   "source": [
    "### EDA"
   ]
  },
  {
   "cell_type": "code",
   "execution_count": 14,
   "metadata": {
    "colab": {},
    "colab_type": "code",
    "id": "XpX56WiCRnm3"
   },
   "outputs": [],
   "source": [
    "data = pd.read_csv(data_in_path + 'ChatBotData.csv')"
   ]
  },
  {
   "cell_type": "code",
   "execution_count": 15,
   "metadata": {},
   "outputs": [
    {
     "name": "stdout",
     "output_type": "stream",
     "text": [
      "total data length: 11823\n"
     ]
    },
    {
     "data": {
      "text/html": [
       "<div>\n",
       "<style scoped>\n",
       "    .dataframe tbody tr th:only-of-type {\n",
       "        vertical-align: middle;\n",
       "    }\n",
       "\n",
       "    .dataframe tbody tr th {\n",
       "        vertical-align: top;\n",
       "    }\n",
       "\n",
       "    .dataframe thead th {\n",
       "        text-align: right;\n",
       "    }\n",
       "</style>\n",
       "<table border=\"1\" class=\"dataframe\">\n",
       "  <thead>\n",
       "    <tr style=\"text-align: right;\">\n",
       "      <th></th>\n",
       "      <th>Q</th>\n",
       "      <th>A</th>\n",
       "      <th>label</th>\n",
       "    </tr>\n",
       "  </thead>\n",
       "  <tbody>\n",
       "    <tr>\n",
       "      <th>0</th>\n",
       "      <td>12시 땡!</td>\n",
       "      <td>하루가 또 가네요.</td>\n",
       "      <td>0</td>\n",
       "    </tr>\n",
       "    <tr>\n",
       "      <th>1</th>\n",
       "      <td>1지망 학교 떨어졌어</td>\n",
       "      <td>위로해 드립니다.</td>\n",
       "      <td>0</td>\n",
       "    </tr>\n",
       "    <tr>\n",
       "      <th>2</th>\n",
       "      <td>3박4일 놀러가고 싶다</td>\n",
       "      <td>여행은 언제나 좋죠.</td>\n",
       "      <td>0</td>\n",
       "    </tr>\n",
       "    <tr>\n",
       "      <th>3</th>\n",
       "      <td>3박4일 정도 놀러가고 싶다</td>\n",
       "      <td>여행은 언제나 좋죠.</td>\n",
       "      <td>0</td>\n",
       "    </tr>\n",
       "    <tr>\n",
       "      <th>4</th>\n",
       "      <td>PPL 심하네</td>\n",
       "      <td>눈살이 찌푸려지죠.</td>\n",
       "      <td>0</td>\n",
       "    </tr>\n",
       "  </tbody>\n",
       "</table>\n",
       "</div>"
      ],
      "text/plain": [
       "                 Q            A  label\n",
       "0           12시 땡!   하루가 또 가네요.      0\n",
       "1      1지망 학교 떨어졌어    위로해 드립니다.      0\n",
       "2     3박4일 놀러가고 싶다  여행은 언제나 좋죠.      0\n",
       "3  3박4일 정도 놀러가고 싶다  여행은 언제나 좋죠.      0\n",
       "4          PPL 심하네   눈살이 찌푸려지죠.      0"
      ]
     },
     "execution_count": 15,
     "metadata": {},
     "output_type": "execute_result"
    }
   ],
   "source": [
    "print(f'total data length: {len(data)}')\n",
    "data.head()"
   ]
  },
  {
   "cell_type": "code",
   "execution_count": 16,
   "metadata": {
    "colab": {
     "base_uri": "https://localhost:8080/",
     "height": 34
    },
    "colab_type": "code",
    "executionInfo": {
     "elapsed": 682,
     "status": "ok",
     "timestamp": 1561695675347,
     "user": {
      "displayName": "ChangWook Jun",
      "photoUrl": "https://lh6.googleusercontent.com/-NHLAhAbNfPg/AAAAAAAAAAI/AAAAAAAAAEc/NDLQ8z7-qns/s64/photo.jpg",
      "userId": "00685987924881157185"
     },
     "user_tz": -540
    },
    "id": "HTn_RS1GSM6e",
    "outputId": "2ea651c4-0ede-4a8a-ac26-5086a2b08b3a"
   },
   "outputs": [
    {
     "name": "stdout",
     "output_type": "stream",
     "text": [
      "1지망 학교 떨어졌어\n"
     ]
    }
   ],
   "source": [
    "sentences = list(data['Q']) + list(data['A'])\n",
    "print(sentences[1])"
   ]
  },
  {
   "cell_type": "code",
   "execution_count": 18,
   "metadata": {
    "colab": {
     "base_uri": "https://localhost:8080/",
     "height": 34
    },
    "colab_type": "code",
    "executionInfo": {
     "elapsed": 589,
     "status": "ok",
     "timestamp": 1561695681996,
     "user": {
      "displayName": "ChangWook Jun",
      "photoUrl": "https://lh6.googleusercontent.com/-NHLAhAbNfPg/AAAAAAAAAAI/AAAAAAAAAEc/NDLQ8z7-qns/s64/photo.jpg",
      "userId": "00685987924881157185"
     },
     "user_tz": -540
    },
    "id": "2-hjhB-PSRYN",
    "outputId": "07ef685e-689c-447e-f1fb-895e57a9c3f6"
   },
   "outputs": [
    {
     "name": "stderr",
     "output_type": "stream",
     "text": [
      "/Users/chojunghyun/anaconda3/envs/tensorflow/lib/python3.6/site-packages/jpype/_core.py:210: UserWarning: \n",
      "-------------------------------------------------------------------------------\n",
      "Deprecated: convertStrings was not specified when starting the JVM. The default\n",
      "behavior in JPype will be False starting in JPype 0.8. The recommended setting\n",
      "for new code is convertStrings=False.  The legacy value of True was assumed for\n",
      "this session. If you are a user of an application that reported this warning,\n",
      "please file a ticket with the developer.\n",
      "-------------------------------------------------------------------------------\n",
      "\n",
      "  \"\"\")\n"
     ]
    }
   ],
   "source": [
    "okt = Okt()\n",
    "tokenized_by_space = [s.split() for s in sentences]\n",
    "tokenized_by_morph = [okt.morphs(s) for s in sentences]\n",
    "tokenized_by_char = [list(s) for s in sentences]"
   ]
  },
  {
   "cell_type": "code",
   "execution_count": 19,
   "metadata": {},
   "outputs": [],
   "source": [
    "eojeol_length = [len(s) for s in tokenized_by_space] \n",
    "morph_length = [len(s) for s in tokenized_by_morph]\n",
    "eumjeol_length = [len(s) for s in tokenized_by_char]"
   ]
  },
  {
   "cell_type": "code",
   "execution_count": 20,
   "metadata": {},
   "outputs": [
    {
     "name": "stdout",
     "output_type": "stream",
     "text": [
      "12시 땡!\n",
      "1지망 학교 떨어졌어\n",
      "3박4일 놀러가고 싶다\n",
      "[2, 3, 3]\n",
      "[3, 4, 6]\n",
      "[6, 11, 12]\n"
     ]
    }
   ],
   "source": [
    "list(map(print, sentences[:3]))\n",
    "print(eojeol_length[:3])\n",
    "print(morph_length[:3])\n",
    "print(eumjeol_length[:3])"
   ]
  },
  {
   "cell_type": "code",
   "execution_count": 21,
   "metadata": {
    "colab": {
     "base_uri": "https://localhost:8080/",
     "height": 366
    },
    "colab_type": "code",
    "executionInfo": {
     "elapsed": 1117,
     "status": "ok",
     "timestamp": 1561696082148,
     "user": {
      "displayName": "ChangWook Jun",
      "photoUrl": "https://lh6.googleusercontent.com/-NHLAhAbNfPg/AAAAAAAAAAI/AAAAAAAAAEc/NDLQ8z7-qns/s64/photo.jpg",
      "userId": "00685987924881157185"
     },
     "user_tz": -540
    },
    "id": "QITTfNw2Vu4e",
    "outputId": "70a93cb2-2351-4a0f-c3d5-15b90ca4b70c"
   },
   "outputs": [
    {
     "data": {
      "image/png": "[encoded data removed]",
      "text/plain": [
       "<Figure size 864x360 with 1 Axes>"
      ]
     },
     "metadata": {
      "needs_background": "light"
     },
     "output_type": "display_data"
    }
   ],
   "source": [
    "plt.figure(figsize=(12, 5))\n",
    "plt.hist(eojeol_length, bins=50, range=[0,50], alpha=0.5, color= 'r', label='eojeol')\n",
    "plt.hist(morph_length, bins=50, range=[0,50], alpha=0.5, color='g', label='morph')\n",
    "plt.hist(eumjeol_length, bins=50, range=[0,50], alpha=0.5, color='b', label='eumjeol')\n",
    "plt.title('Sentence Length Histogram')\n",
    "plt.xlabel('Sentence Length')\n",
    "plt.ylabel('Number of Sentences')\n",
    "None"
   ]
  },
  {
   "cell_type": "code",
   "execution_count": 22,
   "metadata": {
    "colab": {
     "base_uri": "https://localhost:8080/",
     "height": 366
    },
    "colab_type": "code",
    "executionInfo": {
     "elapsed": 1903,
     "status": "ok",
     "timestamp": 1561696239908,
     "user": {
      "displayName": "ChangWook Jun",
      "photoUrl": "https://lh6.googleusercontent.com/-NHLAhAbNfPg/AAAAAAAAAAI/AAAAAAAAAEc/NDLQ8z7-qns/s64/photo.jpg",
      "userId": "00685987924881157185"
     },
     "user_tz": -540
    },
    "id": "ZMxIhRNxVxOm",
    "outputId": "865c25a7-1da9-4616-b603-6accf3d36024"
   },
   "outputs": [
    {
     "data": {
      "image/png": "[encoded data removed]",
      "text/plain": [
       "<Figure size 864x360 with 1 Axes>"
      ]
     },
     "metadata": {
      "needs_background": "light"
     },
     "output_type": "display_data"
    }
   ],
   "source": [
    "plt.figure(figsize=(12, 5))\n",
    "plt.hist(eojeol_length, bins=50, range=[0,50], alpha=0.5, color= 'r', label='eojeol')\n",
    "plt.hist(morph_length, bins=50, range=[0,50], alpha=0.5, color='g', label='morph')\n",
    "plt.hist(eumjeol_length, bins=50, range=[0,50], alpha=0.5, color='b', label='eumjeol')\n",
    "plt.yscale('log')\n",
    "plt.title('Sentence Length Histogram')\n",
    "plt.xlabel('Sentence Length')\n",
    "plt.ylabel('Number of Sentences')\n",
    "None"
   ]
  },
  {
   "cell_type": "code",
   "execution_count": 23,
   "metadata": {
    "colab": {
     "base_uri": "https://localhost:8080/",
     "height": 134
    },
    "colab_type": "code",
    "executionInfo": {
     "elapsed": 654,
     "status": "ok",
     "timestamp": 1561696285452,
     "user": {
      "displayName": "ChangWook Jun",
      "photoUrl": "https://lh6.googleusercontent.com/-NHLAhAbNfPg/AAAAAAAAAAI/AAAAAAAAAEc/NDLQ8z7-qns/s64/photo.jpg",
      "userId": "00685987924881157185"
     },
     "user_tz": -540
    },
    "id": "TJna0JRJWXjW",
    "outputId": "cb473a85-40f0-44a4-8e9e-08a42d03a85b"
   },
   "outputs": [
    {
     "name": "stdout",
     "output_type": "stream",
     "text": [
      "어절 최대길이: 21\n",
      "어절 최소길이: 1\n",
      "어절 평균길이: 3.64\n",
      "어절 길이 표준편차: 1.74\n",
      "어절 중간길이: 3.0\n",
      "제 1 사분위 길이: 2.0\n",
      "제 3 사분위 길이: 5.0\n"
     ]
    }
   ],
   "source": [
    "print(f'어절 최대길이: {np.max(eojeol_length)}')\n",
    "print(f'어절 최소길이: {np.min(eojeol_length)}')\n",
    "print(f'어절 평균길이: {np.mean(eojeol_length):.2f}')\n",
    "print(f'어절 길이 표준편차: {np.std(eojeol_length):.2f}')\n",
    "print(f'어절 중간길이: {np.median(eojeol_length)}')\n",
    "print(f'제 1 사분위 길이: {np.percentile(eojeol_length, 25)}')\n",
    "print(f'제 3 사분위 길이: {np.percentile(eojeol_length, 75)}')"
   ]
  },
  {
   "cell_type": "code",
   "execution_count": 24,
   "metadata": {
    "colab": {
     "base_uri": "https://localhost:8080/",
     "height": 134
    },
    "colab_type": "code",
    "executionInfo": {
     "elapsed": 574,
     "status": "ok",
     "timestamp": 1561696299091,
     "user": {
      "displayName": "ChangWook Jun",
      "photoUrl": "https://lh6.googleusercontent.com/-NHLAhAbNfPg/AAAAAAAAAAI/AAAAAAAAAEc/NDLQ8z7-qns/s64/photo.jpg",
      "userId": "00685987924881157185"
     },
     "user_tz": -540
    },
    "id": "clTeNJUKWi-K",
    "outputId": "3a2e89e4-5784-4350-dc3d-7ad99462df9e"
   },
   "outputs": [
    {
     "name": "stdout",
     "output_type": "stream",
     "text": [
      "형태소 최대길이: 31\n",
      "형태소 최소길이: 1\n",
      "형태소 평균길이: 5.83\n",
      "형태소 길이 표준편차: 2.71\n",
      "형태소 중간길이: 5.0\n",
      "제 1 사분위 길이: 4.0\n",
      "제 3 사분위 길이: 7.0\n"
     ]
    }
   ],
   "source": [
    "print(f'형태소 최대길이: {np.max(morph_length)}')\n",
    "print(f'형태소 최소길이: {np.min(morph_length)}')\n",
    "print(f'형태소 평균길이: {np.mean(morph_length):.2f}')\n",
    "print(f'형태소 길이 표준편차: {np.std(morph_length):.2f}')\n",
    "print(f'형태소 중간길이: {np.median(morph_length)}')\n",
    "print(f'제 1 사분위 길이: {np.percentile(morph_length, 25)}')\n",
    "print(f'제 3 사분위 길이: {np.percentile(morph_length, 75)}')"
   ]
  },
  {
   "cell_type": "code",
   "execution_count": 25,
   "metadata": {
    "colab": {
     "base_uri": "https://localhost:8080/",
     "height": 134
    },
    "colab_type": "code",
    "executionInfo": {
     "elapsed": 546,
     "status": "ok",
     "timestamp": 1561696309559,
     "user": {
      "displayName": "ChangWook Jun",
      "photoUrl": "https://lh6.googleusercontent.com/-NHLAhAbNfPg/AAAAAAAAAAI/AAAAAAAAAEc/NDLQ8z7-qns/s64/photo.jpg",
      "userId": "00685987924881157185"
     },
     "user_tz": -540
    },
    "id": "27SNyYLZWmUK",
    "outputId": "1d82dc84-1c83-46ee-9fef-30fcdaa43ed4"
   },
   "outputs": [
    {
     "name": "stdout",
     "output_type": "stream",
     "text": [
      "음절 최대길이: 76\n",
      "음절 최소길이: 1\n",
      "음절 평균길이: 13.95\n",
      "음절 길이 표준편차: 6.53\n",
      "음절 중간길이: 13.0\n",
      "제 1 사분위 길이: 9.0\n",
      "제 3 사분위 길이: 17.0\n"
     ]
    }
   ],
   "source": [
    "print(f'음절 최대길이: {np.max(eumjeol_length)}')\n",
    "print(f'음절 최소길이: {np.min(eumjeol_length)}')\n",
    "print(f'음절 평균길이: {np.mean(eumjeol_length):.2f}')\n",
    "print(f'음절 길이 표준편차: {np.std(eumjeol_length):.2f}')\n",
    "print(f'음절 중간길이: {np.median(eumjeol_length)}')\n",
    "print(f'제 1 사분위 길이: {np.percentile(eumjeol_length, 25)}')\n",
    "print(f'제 3 사분위 길이: {np.percentile(eumjeol_length, 75)}')"
   ]
  },
  {
   "cell_type": "code",
   "execution_count": 26,
   "metadata": {
    "colab": {
     "base_uri": "https://localhost:8080/",
     "height": 726
    },
    "colab_type": "code",
    "executionInfo": {
     "elapsed": 607,
     "status": "ok",
     "timestamp": 1561696340242,
     "user": {
      "displayName": "ChangWook Jun",
      "photoUrl": "https://lh6.googleusercontent.com/-NHLAhAbNfPg/AAAAAAAAAAI/AAAAAAAAAEc/NDLQ8z7-qns/s64/photo.jpg",
      "userId": "00685987924881157185"
     },
     "user_tz": -540
    },
    "id": "TKgXvl2tWo3x",
    "outputId": "36aad0df-3a40-4170-8bcd-515251f6afda"
   },
   "outputs": [
    {
     "data": {
      "image/png": "[encoded data removed]",
      "text/plain": [
       "<Figure size 864x360 with 1 Axes>"
      ]
     },
     "metadata": {
      "needs_background": "light"
     },
     "output_type": "display_data"
    }
   ],
   "source": [
    "plt.figure(figsize=(12, 5))\n",
    "plt.boxplot([eojeol_length, morph_length, eumjeol_length],\n",
    "            labels=['Eojeol', 'Morph', 'Eumjeol'], \n",
    "            showmeans=True)\n",
    "None"
   ]
  },
  {
   "cell_type": "code",
   "execution_count": 27,
   "metadata": {
    "colab": {},
    "colab_type": "code",
    "id": "9ty15QrmWwWY"
   },
   "outputs": [],
   "source": [
    "question_sentences = list(data['Q'])\n",
    "answer_sentences = list(data['A'])\n",
    "\n",
    "tokenized_by_morph_question = [okt.morphs(s) for s in question_sentences]\n",
    "morph_length_question = [len(s) for s in tokenized_by_morph_question]\n",
    "\n",
    "tokenized_by_morph_answer = [okt.morphs(s) for s in answer_sentences]\n",
    "morph_length_answer = [len(s) for s in tokenized_by_morph_answer]"
   ]
  },
  {
   "cell_type": "code",
   "execution_count": 28,
   "metadata": {
    "colab": {
     "base_uri": "https://localhost:8080/",
     "height": 366
    },
    "colab_type": "code",
    "executionInfo": {
     "elapsed": 69235,
     "status": "ok",
     "timestamp": 1561696454707,
     "user": {
      "displayName": "ChangWook Jun",
      "photoUrl": "https://lh6.googleusercontent.com/-NHLAhAbNfPg/AAAAAAAAAAI/AAAAAAAAAEc/NDLQ8z7-qns/s64/photo.jpg",
      "userId": "00685987924881157185"
     },
     "user_tz": -540
    },
    "id": "DRJ8BavoW4-L",
    "outputId": "379d398c-cc94-4e79-d32d-b9dd4b1dc0bb"
   },
   "outputs": [
    {
     "data": {
      "image/png": "[encoded data removed]",
      "text/plain": [
       "<Figure size 864x360 with 1 Axes>"
      ]
     },
     "metadata": {
      "needs_background": "light"
     },
     "output_type": "display_data"
    }
   ],
   "source": [
    "plt.figure(figsize=(12, 5))\n",
    "plt.hist(morph_length_question, bins=50, range=[0,50], color='g', label='Query')\n",
    "plt.hist(morph_length_answer, bins=50, range=[0,50], color='r', alpha=0.5, label='Answer')\n",
    "plt.legend()\n",
    "plt.title('Query Length Histogram by Morph Token')\n",
    "plt.xlabel('Query Length')\n",
    "plt.ylabel('Number of Queries')\n",
    "None"
   ]
  },
  {
   "cell_type": "code",
   "execution_count": 29,
   "metadata": {
    "colab": {
     "base_uri": "https://localhost:8080/",
     "height": 366
    },
    "colab_type": "code",
    "executionInfo": {
     "elapsed": 60325,
     "status": "ok",
     "timestamp": 1561696455776,
     "user": {
      "displayName": "ChangWook Jun",
      "photoUrl": "https://lh6.googleusercontent.com/-NHLAhAbNfPg/AAAAAAAAAAI/AAAAAAAAAEc/NDLQ8z7-qns/s64/photo.jpg",
      "userId": "00685987924881157185"
     },
     "user_tz": -540
    },
    "id": "7P7Le1qcW7hy",
    "outputId": "ea682e7b-b5ce-45dd-8a5d-8a54287b986f"
   },
   "outputs": [
    {
     "data": {
      "image/png": "[encoded data removed]",
      "text/plain": [
       "<Figure size 864x360 with 1 Axes>"
      ]
     },
     "metadata": {
      "needs_background": "light"
     },
     "output_type": "display_data"
    }
   ],
   "source": [
    "plt.figure(figsize=(12, 5))\n",
    "plt.hist(morph_length_question, bins=50, range=[0,50], color='g', label='Query')\n",
    "plt.hist(morph_length_answer, bins=50, range=[0,50], color='r', alpha=0.5, label='Answer')\n",
    "plt.legend()\n",
    "plt.yscale('log', nonposy='clip')\n",
    "plt.title('Query Length Log Histogram by Morph Token')\n",
    "plt.xlabel('Query Length')\n",
    "plt.ylabel('Number of Queries')\n",
    "None"
   ]
  },
  {
   "cell_type": "markdown",
   "metadata": {
    "colab_type": "text",
    "id": "hUVEyYLTYSRx"
   },
   "source": [
    "### 질문 분석"
   ]
  },
  {
   "cell_type": "code",
   "execution_count": 30,
   "metadata": {
    "colab": {
     "base_uri": "https://localhost:8080/",
     "height": 134
    },
    "colab_type": "code",
    "executionInfo": {
     "elapsed": 47117,
     "status": "ok",
     "timestamp": 1561696455777,
     "user": {
      "displayName": "ChangWook Jun",
      "photoUrl": "https://lh6.googleusercontent.com/-NHLAhAbNfPg/AAAAAAAAAAI/AAAAAAAAAEc/NDLQ8z7-qns/s64/photo.jpg",
      "userId": "00685987924881157185"
     },
     "user_tz": -540
    },
    "id": "rA67U2J7W99j",
    "outputId": "055c864d-93d2-44ed-efe3-99926459194b"
   },
   "outputs": [
    {
     "name": "stdout",
     "output_type": "stream",
     "text": [
      "형태소 최대길이: 21\n",
      "형태소 최소길이: 1\n",
      "형태소 평균길이: 5.27\n",
      "형태소 길이 표준편차: 2.54\n",
      "형태소 중간길이: 5.0\n",
      "제 1 사분위 길이: 3.0\n",
      "제 3 사분위 길이: 7.0\n"
     ]
    }
   ],
   "source": [
    "print(f'형태소 최대길이: {np.max(morph_length_question)}')\n",
    "print(f'형태소 최소길이: {np.min(morph_length_question)}')\n",
    "print(f'형태소 평균길이: {np.mean(morph_length_question):.2f}')\n",
    "print(f'형태소 길이 표준편차: {np.std(morph_length_question):.2f}')\n",
    "print(f'형태소 중간길이: {np.median(morph_length_question)}')\n",
    "print(f'제 1 사분위 길이: {np.percentile(morph_length_question, 25)}')\n",
    "print(f'제 3 사분위 길이: {np.percentile(morph_length_question, 75)}')"
   ]
  },
  {
   "cell_type": "markdown",
   "metadata": {
    "colab_type": "text",
    "id": "5HztrPWqYW1W"
   },
   "source": [
    "### 답변 분석"
   ]
  },
  {
   "cell_type": "code",
   "execution_count": 31,
   "metadata": {
    "colab": {
     "base_uri": "https://localhost:8080/",
     "height": 134
    },
    "colab_type": "code",
    "executionInfo": {
     "elapsed": 32318,
     "status": "ok",
     "timestamp": 1561696455778,
     "user": {
      "displayName": "ChangWook Jun",
      "photoUrl": "https://lh6.googleusercontent.com/-NHLAhAbNfPg/AAAAAAAAAAI/AAAAAAAAAEc/NDLQ8z7-qns/s64/photo.jpg",
      "userId": "00685987924881157185"
     },
     "user_tz": -540
    },
    "id": "4foB6o_3XBLb",
    "outputId": "a4053cdf-36d0-47bc-edb1-02219d91a947"
   },
   "outputs": [
    {
     "name": "stdout",
     "output_type": "stream",
     "text": [
      "형태소 최대길이: 31\n",
      "형태소 최소길이: 1\n",
      "형태소 평균길이: 6.40\n",
      "형태소 길이 표준편차: 2.76\n",
      "형태소 중간길이: 6.0\n",
      "제 1 사분위 길이: 4.0\n",
      "제 3 사분위 길이: 8.0\n"
     ]
    }
   ],
   "source": [
    "print(f'형태소 최대길이: {np.max(morph_length_answer)}')\n",
    "print(f'형태소 최소길이: {np.min(morph_length_answer)}')\n",
    "print(f'형태소 평균길이: {np.mean(morph_length_answer):.2f}')\n",
    "print(f'형태소 길이 표준편차: {np.std(morph_length_answer):.2f}')\n",
    "print(f'형태소 중간길이: {np.median(morph_length_answer)}')\n",
    "print(f'제 1 사분위 길이: {np.percentile(morph_length_answer, 25)}')\n",
    "print(f'제 3 사분위 길이: {np.percentile(morph_length_answer, 75)}')"
   ]
  }
 ],
 "metadata": {
  "colab": {
   "collapsed_sections": [],
   "name": "Day5_1_EDA.ipynb",
   "provenance": [],
   "version": "0.3.2"
  },
  "kernelspec": {
   "display_name": "Python 3",
   "language": "python",
   "name": "python3"
  },
  "language_info": {
   "codemirror_mode": {
    "name": "ipython",
    "version": 3
   },
   "file_extension": ".py",
   "mimetype": "text/x-python",
   "name": "python",
   "nbconvert_exporter": "python",
   "pygments_lexer": "ipython3",
   "version": "3.6.8"
  }
 },
 "nbformat": 4,
 "nbformat_minor": 1
}
